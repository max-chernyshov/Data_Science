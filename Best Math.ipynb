{
 "cells": [
  {
   "cell_type": "markdown",
   "metadata": {},
   "source": [
    "# Поиск лучшего мат.преобразования переменных"
   ]
  },
  {
   "cell_type": "markdown",
   "metadata": {},
   "source": [
    "Функция поиска лучшего математического преобразования для входных переменных. На выбор, можно минимизировать квантильную ассиметрию (робастную к выбросам), ассиметрию и статистику Колмогорова-Смирнова (проверка схожести распределения входной переменной с распределение целевой переменной) О квантильной ассиметрии (SAS Institut):"
   ]
  },
  {
   "attachments": {
    "image.png": {
     "K_MEANS": "https://github.com/max-chernyshov/Data_Science/blob/master/"
    }
   },
   "cell_type": "markdown",
   "metadata": {},
   "source": [
    "![](https://github.com/max-chernyshov/Data_Science/blob/master/K_MEANS.jpg)"
   ]
  },
  {
   "cell_type": "code",
   "execution_count": 143,
   "metadata": {},
   "outputs": [],
   "source": [
    "def math(arr,types,target=0):\n",
    "    \n",
    "    import numpy as np\n",
    "    import pandas as pd\n",
    "    from scipy.stats import ks_2samp\n",
    "    from scipy.stats import skew \n",
    " \n",
    "    df_log10=np.log10(arr.astype(float))\n",
    "    df_log=np.log(arr.astype(float))\n",
    "    df_inv=1/(arr.astype(float))\n",
    "    df_sqrt=np.sqrt(arr.astype(float)+1)\n",
    "    df_inv_sqrt=1/np.sqrt(arr.astype(float)+1)\n",
    "    df_sq=np.square(arr.astype(float)+1)\n",
    "    df_inv_sq=1/np.square(arr.astype(float)+1)\n",
    "    df_st_scaller=(arr.astype(float)-np.mean(arr.astype(float)))/np.std(arr.astype(float))\n",
    "    df_max_scaller=arr.astype(float)/np.max(arr.astype(float))\n",
    "    df_arcs=np.arcsin(df_max_scaller)\n",
    "    df_cub_root=arr.astype(float)**(1/3)\n",
    "    df_no_transf=arr.astype(float)\n",
    "    var=[df_log10,df_log,df_inv,df_sqrt,df_inv_sqrt,df_sq,df_inv_sq,df_st_scaller,df_max_scaller,df_arcs,df_cub_root,df_no_transf]\n",
    "    name=['_log10','_log','_inv','_sqrt','_inv_sqrt','_sq','_inv_sq','_scall','_max_scall','_arcs','_cub_root','_no']\n",
    "    mini=100000\n",
    "    maxi=0\n",
    "    for i in range(12):\n",
    "        if types=='q_skew':\n",
    "            metric=((np.quantile(var[i], 0.75)-np.quantile(var[i], 0.5))-(np.quantile(var[i], 0.5)-np.quantile(var[i], 0.25)))/(np.quantile(var[i], 0.75)-np.quantile(var[i], 0.25))\n",
    "            if mini >= np.absolute(metric):\n",
    "                mini=np.absolute(metric)\n",
    "                new=pd.DataFrame({arr.name + name[i]: var[i]})\n",
    "        elif types=='skew':\n",
    "            metric=skew(var[i])\n",
    "            if mini >= np.absolute(metric):\n",
    "                mini=np.absolute(metric)\n",
    "                new=pd.DataFrame({arr.name + name[i]: var[i]})\n",
    "        elif types=='ks_test':\n",
    "            metric,a=ks_2samp(arr,target)\n",
    "            if maxi <= metric:\n",
    "                maxi=metric\n",
    "                new=pd.DataFrame({arr.name + name[i]: var[i]})\n",
    "            print(metric)\n",
    "    return new"
   ]
  }
 ],
 "metadata": {
  "kernelspec": {
   "display_name": "Python 3",
   "language": "python",
   "name": "python3"
  },
  "language_info": {
   "codemirror_mode": {
    "name": "ipython",
    "version": 3
   },
   "file_extension": ".py",
   "mimetype": "text/x-python",
   "name": "python",
   "nbconvert_exporter": "python",
   "pygments_lexer": "ipython3",
   "version": "3.7.3"
  }
 },
 "nbformat": 4,
 "nbformat_minor": 2
}
